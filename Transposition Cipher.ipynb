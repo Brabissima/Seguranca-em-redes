{
 "cells": [
  {
   "cell_type": "code",
   "execution_count": 1,
   "id": "21b19c54",
   "metadata": {},
   "outputs": [],
   "source": [
    "import numpy as np\n",
    "from collections import defaultdict\n",
    "from itertools import chain"
   ]
  },
  {
   "cell_type": "code",
   "execution_count": 2,
   "id": "9de8d18c",
   "metadata": {},
   "outputs": [],
   "source": [
    "def cipher(key, plain_text):\n",
    "    alphabet = ['a', 'b', 'c', 'd', 'e', 'f', 'g', 'h', 'i', 'j', 'k', 'l', 'm', 'n',\\\n",
    "                'o', 'p', 'q', 'r', 's', 't', 'u', 'v', 'w', 'x', 'y', 'z']\n",
    "    \n",
    "    len_key = len(key)\n",
    "    len_plain_text = len(plain_text)\n",
    "\n",
    "    ### Ordenar a chave conforme o alfabeto, exemplo: M E G A B U C K -> 7 4 5 1 2 8 2 3 6\n",
    "    i = 1\n",
    "    order_mapping = [None]*len_key\n",
    "    for a in range(len(alphabet)):\n",
    "        for k in range(len_key):\n",
    "            if alphabet[a] == key[k]:\n",
    "                order_mapping[k] = i\n",
    "                i += 1            \n",
    "\n",
    "    ### Gerando a matriz cifrada\n",
    "    cipher_text = [[]]*len_key\n",
    "\n",
    "    for c in range(len(plain_text)):\n",
    "        if len(cipher_text[c%len_key]) > 0:\n",
    "            cipher_text[c%len_key].append(plain_text[c])\n",
    "        else:\n",
    "            cipher_text[c%len_key] = [plain_text[c]]\n",
    "\n",
    "    ### Gerando um mapeamento\n",
    "    cipher_mapping = dict(zip(order_mapping, cipher_text))\n",
    "    \n",
    "    ### Texto cifrado ainda dividido em listas\n",
    "    cipher_text = []\n",
    "    for i in range(len(cipher_mapping)):\n",
    "        cipher_text.append(cipher_mapping[i+1])\n",
    "        \n",
    "    ### Texto cifrado\n",
    "    return \"\".join([x for ct in cipher_text for x in ct])"
   ]
  },
  {
   "cell_type": "code",
   "execution_count": 3,
   "id": "bcbb102a",
   "metadata": {},
   "outputs": [
    {
     "data": {
      "text/plain": [
       "'mljiaeodeahruouet  n '"
      ]
     },
     "execution_count": 3,
     "metadata": {},
     "output_type": "execute_result"
    }
   ],
   "source": [
    "cipher('megabuck', 'terminou aula de hoje')"
   ]
  },
  {
   "cell_type": "code",
   "execution_count": 4,
   "id": "0b62ad97",
   "metadata": {},
   "outputs": [],
   "source": [
    "def decipher(key, cipher_text):\n",
    "    ########################################################################################\n",
    "    ############################ Aproveitando código de cifragem ###########################\n",
    "    alphabet = ['a', 'b', 'c', 'd', 'e', 'f', 'g', 'h', 'i', 'j', 'k', 'l', 'm', 'n',\\\n",
    "                'o', 'p', 'q', 'r', 's', 't', 'u', 'v', 'w', 'x', 'y', 'z']\n",
    "    \n",
    "    len_key = len(key)\n",
    "    len_cipher_text = len(cipher_text)\n",
    "    \n",
    "    ### Ordenar a chave conforme o alfabeto, exemplo: M E G A B U C K -> 7 4 5 1 2 8 3 6\n",
    "    i = 1\n",
    "    order_mapping = [None]*len_key\n",
    "    for a in range(len(alphabet)):\n",
    "        for k in range(len_key):\n",
    "            if alphabet[a] == key[k]:\n",
    "                order_mapping[k] = i\n",
    "                i += 1    \n",
    "    ########################################################################################\n",
    "    \n",
    "    ### Quantidades de linhas completas\n",
    "    complete_rows = len_cipher_text//len_key\n",
    "    \n",
    "    ### Quantidade de elementos na última linha\n",
    "    additional_characters = int((len_cipher_text/len_key)%1 * len_key)\n",
    "    \n",
    "    ### Gerando mapeamento de decifragem\n",
    "    cipher_i = 0\n",
    "    dict_ = defaultdict(list)\n",
    "    \n",
    "    for i in sorted(order_mapping):\n",
    "        if i in order_mapping[:additional_characters]:\n",
    "            qt_char = complete_rows+1\n",
    "        else:\n",
    "            qt_char = complete_rows\n",
    "        count = 0\n",
    "        while count < qt_char:\n",
    "            dict_[i].append(cipher_text[cipher_i])\n",
    "            cipher_i += 1\n",
    "            count += 1\n",
    "        \n",
    "    decipher_text = defaultdict(list)\n",
    "    for i in order_mapping:\n",
    "        decipher_text[i] = dict_[i]\n",
    "        \n",
    "    count = 0\n",
    "    plain_text = []\n",
    "\n",
    "    ### Juntando os caracteres em uma lista de caracteres e retornando em frase\n",
    "    while count < complete_rows+1:\n",
    "        for i in decipher_text.keys():\n",
    "            try:\n",
    "                plain_text.append(decipher_text[i][count])\n",
    "            except:\n",
    "                next\n",
    "        count += 1\n",
    "    \n",
    "    return ''.join(plain_text)"
   ]
  },
  {
   "cell_type": "code",
   "execution_count": 5,
   "id": "83e58ada",
   "metadata": {},
   "outputs": [
    {
     "data": {
      "text/plain": [
       "'terminou aula de hoje'"
      ]
     },
     "execution_count": 5,
     "metadata": {},
     "output_type": "execute_result"
    }
   ],
   "source": [
    "decipher('megabuck', 'mljiaeodeahruouet  n ')"
   ]
  }
 ],
 "metadata": {
  "kernelspec": {
   "display_name": "Python 3",
   "language": "python",
   "name": "python3"
  },
  "language_info": {
   "codemirror_mode": {
    "name": "ipython",
    "version": 3
   },
   "file_extension": ".py",
   "mimetype": "text/x-python",
   "name": "python",
   "nbconvert_exporter": "python",
   "pygments_lexer": "ipython3",
   "version": "3.8.8"
  }
 },
 "nbformat": 4,
 "nbformat_minor": 5
}
