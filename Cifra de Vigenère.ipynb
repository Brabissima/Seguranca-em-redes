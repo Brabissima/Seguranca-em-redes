{
 "cells": [
  {
   "cell_type": "code",
   "execution_count": 1,
   "id": "818d0292",
   "metadata": {},
   "outputs": [],
   "source": [
    "plain_text = 'aula de monitoria da tia malu e do tio mega'\n",
    "key = 'chave'"
   ]
  },
  {
   "cell_type": "code",
   "execution_count": 2,
   "id": "1e94f405",
   "metadata": {},
   "outputs": [],
   "source": [
    "def adapt_key_length(key, plain_text):\n",
    "    key = list(key)\n",
    "    if len(plain_text) == len(key):\n",
    "        return key\n",
    "    for i in range(len(plain_text)):\n",
    "        key.append(key[i % len(key)])\n",
    "    return \"\".join(key)"
   ]
  },
  {
   "cell_type": "code",
   "execution_count": 3,
   "id": "ed8bd668",
   "metadata": {},
   "outputs": [
    {
     "data": {
      "text/plain": [
       "'chavechavechavechavechavechavechavechavechavecha'"
      ]
     },
     "execution_count": 3,
     "metadata": {},
     "output_type": "execute_result"
    }
   ],
   "source": [
    "key = adapt_key_length(key, plain_text)\n",
    "key"
   ]
  },
  {
   "cell_type": "code",
   "execution_count": 4,
   "id": "538163ee",
   "metadata": {},
   "outputs": [],
   "source": [
    "def cipher(key, plain_text, alphabet = ['a', 'b', 'c', 'd', 'e', 'f', 'g', \\\n",
    "                                        'h','i', 'j', 'k', 'l', 'm', 'n', 'o',\\\n",
    "                                        'p', 'q', 'r', 's', 't', 'u', 'v', 'w',\\\n",
    "                                        'x', 'y', 'z', ' ']):\n",
    "    cipher_text = []\n",
    "    for i in range(len(plain_text)):\n",
    "        x = (alphabet.index(plain_text[i]) + alphabet.index(key[i])) % len(alphabet)\n",
    "        cipher_text.append(alphabet[x])\n",
    "    return ''.join(cipher_text)"
   ]
  },
  {
   "cell_type": "code",
   "execution_count": 5,
   "id": "5ecf2824",
   "metadata": {},
   "outputs": [
    {
     "data": {
      "text/plain": [
       "'calvdfl gspptivkh yeb ivdohlodggdidvpouqgna'"
      ]
     },
     "execution_count": 5,
     "metadata": {},
     "output_type": "execute_result"
    }
   ],
   "source": [
    "cipher_text = cipher(key, plain_text)\n",
    "cipher_text"
   ]
  },
  {
   "cell_type": "code",
   "execution_count": 6,
   "id": "769eb3e8",
   "metadata": {},
   "outputs": [],
   "source": [
    "def decipher(key, cipher_text, alphabet = ['a', 'b', 'c', 'd', 'e', 'f', 'g', \\\n",
    "                                        'h','i', 'j', 'k', 'l', 'm', 'n', 'o',\\\n",
    "                                        'p', 'q', 'r', 's', 't', 'u', 'v', 'w',\\\n",
    "                                        'x', 'y', 'z', ' ']):\n",
    "    decipher_text = []\n",
    "    for i in range(len(cipher_text)):\n",
    "        x = (alphabet.index(cipher_text[i]) - alphabet.index(key[i]) + len(alphabet)) % len(alphabet)\n",
    "        decipher_text.append(alphabet[x])\n",
    "    return ''.join(decipher_text)"
   ]
  },
  {
   "cell_type": "code",
   "execution_count": 7,
   "id": "84851a4f",
   "metadata": {},
   "outputs": [
    {
     "data": {
      "text/plain": [
       "'aula de monitoria da tia malu e do tio mega'"
      ]
     },
     "execution_count": 7,
     "metadata": {},
     "output_type": "execute_result"
    }
   ],
   "source": [
    "decipher(key, cipher_text)"
   ]
  }
 ],
 "metadata": {
  "kernelspec": {
   "display_name": "Python 3",
   "language": "python",
   "name": "python3"
  },
  "language_info": {
   "codemirror_mode": {
    "name": "ipython",
    "version": 3
   },
   "file_extension": ".py",
   "mimetype": "text/x-python",
   "name": "python",
   "nbconvert_exporter": "python",
   "pygments_lexer": "ipython3",
   "version": "3.8.8"
  }
 },
 "nbformat": 4,
 "nbformat_minor": 5
}
