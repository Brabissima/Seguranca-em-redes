{
 "cells": [
  {
   "cell_type": "code",
   "execution_count": 8,
   "id": "ef20a0d9",
   "metadata": {},
   "outputs": [],
   "source": [
    "from socket import socket, SOCK_DGRAM, AF_INET\n",
    "from des import DesKey\n",
    "import random"
   ]
  },
  {
   "cell_type": "code",
   "execution_count": 9,
   "id": "b7693121",
   "metadata": {},
   "outputs": [],
   "source": [
    "def SHA_256(coin):\n",
    "    if coin == 0:      \n",
    "        return hashlib.sha256(b'0')\n",
    "    elif coin == 1:\n",
    "        return hashlib.sha256(b'1')\n",
    "    \n",
    "    \n",
    "# Alice envia o resultado da função hash\n",
    "def encrypt_result(alice):\n",
    "    return SHA_256(alice)\n",
    "\n",
    "\n",
    "# Alice envia o valor usado para gerar o hash\n",
    "def hash_value(alice):\n",
    "    return alice\n",
    "\n",
    "\n",
    "# Impedindo intercepção de terceiros a partir da criptografia DES\n",
    "def encrypt(message, key):\n",
    "    key = DesKey(f'{key}'.encode())\n",
    "    return key.encrypt(f'{message}'.encode(), padding=True)\n",
    "\n",
    "\n",
    "def decrypt(cipher, key):\n",
    "    key = DesKey(f'{key}'.encode())\n",
    "    return key.decrypt(cipher, padding=True)"
   ]
  },
  {
   "cell_type": "code",
   "execution_count": 7,
   "id": "af02f8e7",
   "metadata": {},
   "outputs": [
    {
     "name": "stdout",
     "output_type": "stream",
     "text": [
      "Waiting for connections\n",
      "b'1' ('127.0.0.1', 60763)\n"
     ]
    }
   ],
   "source": [
    "#Create a UDP socket \n",
    "#Notice the use of SOCK_DGRAM for UDP packets\n",
    "serverSocket = socket(AF_INET, SOCK_DGRAM)\n",
    "# Assign IP address and port number to socket\n",
    "serverSocket.bind(('', 12000))\n",
    "print (\"Waiting for connections\")\n",
    "run = True\n",
    "while run:\n",
    "    coin = str(random.randint(0, 1)).encode()\n",
    "    # Receive the client packet along with the address it is coming from\n",
    "    message, address = serverSocket.recvfrom(2048)\n",
    "    # Capitalize the message from the client\n",
    "    print (message, address)\n",
    "    if message == coin:\n",
    "        message = ('Your guess is correct: {}'.format(coin.decode())).encode()\n",
    "    else:\n",
    "        message = ('You lose :( \\nThe correct answer is: {}'.format(coin.decode())).encode()\n",
    "    serverSocket.sendto(message, address)\n",
    "    quit, address = serverSocket.recvfrom(2048)\n",
    "    if quit == b'1':\n",
    "        run = False\n",
    "serverSocket.close()"
   ]
  },
  {
   "cell_type": "code",
   "execution_count": null,
   "id": "a3216866",
   "metadata": {},
   "outputs": [],
   "source": []
  }
 ],
 "metadata": {
  "kernelspec": {
   "display_name": "Python 3",
   "language": "python",
   "name": "python3"
  },
  "language_info": {
   "codemirror_mode": {
    "name": "ipython",
    "version": 3
   },
   "file_extension": ".py",
   "mimetype": "text/x-python",
   "name": "python",
   "nbconvert_exporter": "python",
   "pygments_lexer": "ipython3",
   "version": "3.8.8"
  }
 },
 "nbformat": 4,
 "nbformat_minor": 5
}
