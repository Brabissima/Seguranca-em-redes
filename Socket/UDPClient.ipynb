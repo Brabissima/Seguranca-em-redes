{
 "cells": [
  {
   "cell_type": "code",
   "execution_count": 1,
   "id": "31484878",
   "metadata": {},
   "outputs": [],
   "source": [
    "from socket import *\n",
    "from des import DesKey\n",
    "import random"
   ]
  },
  {
   "cell_type": "code",
   "execution_count": 2,
   "id": "e178f1c9",
   "metadata": {},
   "outputs": [],
   "source": [
    "def SHA_256(coin):\n",
    "    if coin == 0:      \n",
    "        return hashlib.sha256(b'0')\n",
    "    elif coin == 1:\n",
    "        return hashlib.sha256(b'1')\n",
    "    \n",
    "    \n",
    "# Bob envia seu palpite\n",
    "def send_guess(bob):\n",
    "    return bob\n",
    "\n",
    "\n",
    "# Bob confere se o valor não foi alterado\n",
    "def checking_result(result, value):\n",
    "    if encrypt_result(value).hexdigest() == result.hexdigest():\n",
    "        return 'Não houve adulteração do resultado.'\n",
    "    return 'Houve adulteração do resultado.'\n",
    "\n",
    "\n",
    "# Afirmando ou negando o acerto do palpite de Bob\n",
    "def checking_guess(result, bob_guess):\n",
    "    if result == bob_guess:\n",
    "        return \"Right answer, coin value: {}\\n\".format(result)\n",
    "    return \"Wrong answer, you shot {}. The right coin value is {}.\\n\".format(bob_guess, result)\n",
    "\n",
    "\n",
    "# Impedindo intercepção de terceiros a partir da criptografia DES\n",
    "def encrypt(message, key):\n",
    "    key = DesKey(f'{key}'.encode())\n",
    "    return key.encrypt(f'{message}'.encode(), padding=True)\n",
    "\n",
    "\n",
    "def decrypt(cipher, key):\n",
    "    key = DesKey(f'{key}'.encode())\n",
    "    return key.decrypt(cipher, padding=True)"
   ]
  },
  {
   "cell_type": "code",
   "execution_count": 11,
   "id": "483ee564",
   "metadata": {},
   "outputs": [
    {
     "name": "stdout",
     "output_type": "stream",
     "text": [
      "Input your guess: \n",
      "[0] Head \n",
      "[1] Tail\n",
      "\n",
      "1\n",
      "b'You lose :( \\nThe correct answer is: 0' ('127.0.0.1', 12000)\n",
      "If you want to finish your require, please press 1.\n",
      "1\n"
     ]
    }
   ],
   "source": [
    "serverName = '127.0.0.1'\n",
    "serverPort = 12000\n",
    "clientSocket = socket(AF_INET,SOCK_DGRAM)\n",
    "quit = '0'\n",
    "while quit != '1':\n",
    "    message = input('Input your guess: \\n[0] Head \\n[1] Tail\\n\\n')\n",
    "    clientSocket.sendto(message.encode(),(serverName, serverPort))\n",
    "    modifiedMessage, serverAddress = clientSocket.recvfrom(2048)\n",
    "    print (modifiedMessage, serverAddress)\n",
    "    quit = input('If you want to finish your require, please press 1.\\n')\n",
    "    clientSocket.sendto(quit.encode(), (serverName, serverPort))\n",
    "clientSocket.close()"
   ]
  }
 ],
 "metadata": {
  "kernelspec": {
   "display_name": "Python 3",
   "language": "python",
   "name": "python3"
  }
 },
 "nbformat": 4,
 "nbformat_minor": 5
}
