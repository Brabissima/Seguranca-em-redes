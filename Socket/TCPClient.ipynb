{
 "cells": [
  {
   "cell_type": "code",
   "execution_count": 11,
   "id": "240fe1d1",
   "metadata": {},
   "outputs": [],
   "source": [
    "from socket import *\n",
    "import ssl"
   ]
  },
  {
   "cell_type": "code",
   "execution_count": 12,
   "id": "5b3deb9f",
   "metadata": {},
   "outputs": [],
   "source": [
    "serverName = '127.0.0.1'\n",
    "serverPort = 12000"
   ]
  },
  {
   "cell_type": "code",
   "execution_count": 13,
   "id": "b939552b",
   "metadata": {},
   "outputs": [
    {
     "name": "stdout",
     "output_type": "stream",
     "text": [
      "Input your guess: \n",
      "[0] Head \n",
      "[1] Tail\n",
      "\n",
      "1\n",
      "b'Your guess is correct: 1'\n"
     ]
    }
   ],
   "source": [
    "clientSocket = socket(AF_INET, SOCK_STREAM)\n",
    "clientSocket.connect((serverName, serverPort))\n",
    "\n",
    "quit = None\n",
    "message = input('Input your guess: \\n[0] Head \\n[1] Tail\\n\\n')\n",
    "clientSocket.send(message.encode())\n",
    "modifiedMessage = clientSocket.recv(1024)\n",
    "print(modifiedMessage)\n",
    "clientSocket.close()"
   ]
  },
  {
   "cell_type": "code",
   "execution_count": null,
   "id": "d063b9da",
   "metadata": {},
   "outputs": [],
   "source": []
  }
 ],
 "metadata": {
  "kernelspec": {
   "display_name": "Python 3",
   "language": "python",
   "name": "python3"
  },
  "language_info": {
   "codemirror_mode": {
    "name": "ipython",
    "version": 3
   },
   "file_extension": ".py",
   "mimetype": "text/x-python",
   "name": "python",
   "nbconvert_exporter": "python",
   "pygments_lexer": "ipython3",
   "version": "3.8.8"
  }
 },
 "nbformat": 4,
 "nbformat_minor": 5
}
