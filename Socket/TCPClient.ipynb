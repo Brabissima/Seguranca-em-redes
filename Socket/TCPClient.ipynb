{
 "cells": [
  {
   "cell_type": "code",
   "execution_count": 1,
   "id": "240fe1d1",
   "metadata": {},
   "outputs": [],
   "source": [
    "from socket import *\n",
    "import random\n",
    "import ssl\n",
    "import certifi\n",
    "import os"
   ]
  },
  {
   "cell_type": "code",
   "execution_count": 2,
   "id": "5b3deb9f",
   "metadata": {},
   "outputs": [],
   "source": [
    "serverName = '127.0.0.1'\n",
    "serverPort = 60000"
   ]
  },
  {
   "cell_type": "code",
   "execution_count": 3,
   "id": "752bdeb1",
   "metadata": {},
   "outputs": [],
   "source": [
    "clientSocket = socket(AF_INET, SOCK_STREAM)\n",
    "#\n",
    "#contextInstance                 = ssl.SSLContext()\n",
    "#contextInstance.verify_mode     = ssl.CERT_REQUIRED\n",
    "## Load the CA certificates used for validating the peer's certificate\n",
    "#contextInstance.load_verify_locations(cafile=os.path.relpath(certifi.where()),\n",
    "#                                      capath=None,\n",
    "#                                      cadata=None)\n",
    "#\n",
    "#sslClientSocket = contextInstance.wrap_socket(clientSocket)"
   ]
  },
  {
   "cell_type": "code",
   "execution_count": 4,
   "id": "b939552b",
   "metadata": {
    "scrolled": true
   },
   "outputs": [
    {
     "name": "stdout",
     "output_type": "stream",
     "text": [
      "Input your guess: \n",
      "[0] Head \n",
      "[1] Tail\n",
      "\n",
      "1\n",
      "b'Your guess is correct: 1'\n"
     ]
    }
   ],
   "source": [
    "clientPort = random.randint(60000, 65535)\n",
    "\n",
    "clientSocket.bind((serverName, clientPort))\n",
    "clientSocket.connect((serverName, serverPort))\n",
    "\n",
    "message = input('Input your guess: \\n[0] Head \\n[1] Tail\\n\\n')\n",
    "clientSocket.send(message.encode())\n",
    "modifiedMessage = clientSocket.recv(1024)\n",
    "print(modifiedMessage)\n",
    "clientSocket.close()"
   ]
  },
  {
   "cell_type": "code",
   "execution_count": null,
   "id": "963cd2c5",
   "metadata": {},
   "outputs": [],
   "source": []
  }
 ],
 "metadata": {
  "kernelspec": {
   "display_name": "Python 3",
   "language": "python",
   "name": "python3"
  },
  "language_info": {
   "codemirror_mode": {
    "name": "ipython",
    "version": 3
   },
   "file_extension": ".py",
   "mimetype": "text/x-python",
   "name": "python",
   "nbconvert_exporter": "python",
   "pygments_lexer": "ipython3",
   "version": "3.8.8"
  }
 },
 "nbformat": 4,
 "nbformat_minor": 5
}
