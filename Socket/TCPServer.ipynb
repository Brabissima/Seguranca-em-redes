{
 "cells": [
  {
   "cell_type": "code",
   "execution_count": 1,
   "id": "65bf50fd",
   "metadata": {},
   "outputs": [],
   "source": [
    "from socket import *\n",
    "import ssl\n",
    "import random"
   ]
  },
  {
   "cell_type": "code",
   "execution_count": 2,
   "id": "25c0a5d9",
   "metadata": {},
   "outputs": [],
   "source": [
    "serverPort = 12000\n",
    "serverSocket = socket(AF_INET,SOCK_STREAM)"
   ]
  },
  {
   "cell_type": "code",
   "execution_count": null,
   "id": "40ee8288",
   "metadata": {},
   "outputs": [
    {
     "name": "stdout",
     "output_type": "stream",
     "text": [
      "The server is ready to receive\n",
      "recebi pedido\n",
      "atendi pedido e vou enviar resposta\n"
     ]
    }
   ],
   "source": [
    "serverSocket.bind(('', serverPort))\n",
    "serverSocket.listen(1)\n",
    "print('The server is ready to receive')\n",
    "while 1:\n",
    "    connectionSocket, addr = serverSocket.accept()\n",
    "    coin = str(random.randint(0, 1)).encode()\n",
    "    message = connectionSocket.recv(1024)\n",
    "    print('recebi pedido')\n",
    "    if message == coin:\n",
    "        message = ('Your guess is correct: {}'.format(coin.decode())).encode()\n",
    "    else:\n",
    "        message = ('You lose :( \\nThe correct answer is: {}'.format(coin.decode())).encode()\n",
    "    print('atendi pedido e vou enviar resposta')\n",
    "    connectionSocket.send(message)\n",
    "    connectionSocket.close()"
   ]
  },
  {
   "cell_type": "code",
   "execution_count": null,
   "id": "ef076941",
   "metadata": {},
   "outputs": [],
   "source": []
  }
 ],
 "metadata": {
  "kernelspec": {
   "display_name": "Python 3",
   "language": "python",
   "name": "python3"
  },
  "language_info": {
   "codemirror_mode": {
    "name": "ipython",
    "version": 3
   },
   "file_extension": ".py",
   "mimetype": "text/x-python",
   "name": "python",
   "nbconvert_exporter": "python",
   "pygments_lexer": "ipython3",
   "version": "3.8.8"
  }
 },
 "nbformat": 4,
 "nbformat_minor": 5
}
