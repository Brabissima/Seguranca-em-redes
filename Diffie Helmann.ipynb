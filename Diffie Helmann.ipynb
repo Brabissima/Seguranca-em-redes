{
 "cells": [
  {
   "cell_type": "code",
   "execution_count": 1,
   "id": "ad2cdb1d",
   "metadata": {},
   "outputs": [],
   "source": [
    "from math import sqrt\n",
    "import numpy as np"
   ]
  },
  {
   "cell_type": "markdown",
   "id": "b5e5bf75",
   "metadata": {},
   "source": [
    "### Primality verification"
   ]
  },
  {
   "cell_type": "code",
   "execution_count": 2,
   "id": "bd2a1e2e",
   "metadata": {},
   "outputs": [],
   "source": [
    "def is_prime(number: int) -> bool:\n",
    "    if number <= 3:\n",
    "        if number > 0:\n",
    "            return True\n",
    "        return False\n",
    "    \n",
    "    sqrt_number = int(sqrt(number))\n",
    "    \n",
    "    for i in range(2, sqrt_number+1):\n",
    "        if number % i == 0:\n",
    "            return False\n",
    "        \n",
    "    return True"
   ]
  },
  {
   "cell_type": "code",
   "execution_count": 3,
   "id": "eadffdc1",
   "metadata": {},
   "outputs": [
    {
     "data": {
      "text/plain": [
       "True"
      ]
     },
     "execution_count": 3,
     "metadata": {},
     "output_type": "execute_result"
    }
   ],
   "source": [
    "is_prime(349)"
   ]
  },
  {
   "cell_type": "markdown",
   "id": "1156389b",
   "metadata": {},
   "source": [
    "### Primitive root"
   ]
  },
  {
   "cell_type": "markdown",
   "id": "1baa34bc",
   "metadata": {},
   "source": [
    "Function that find the smallest primitive of a number."
   ]
  },
  {
   "cell_type": "code",
   "execution_count": 4,
   "id": "802f5565",
   "metadata": {},
   "outputs": [],
   "source": [
    "def find_smallest_primitive(number: int) -> int:\n",
    "    for i in range(2, number):\n",
    "        primitive_root = None\n",
    "        mods = []\n",
    "        for j in range(number-1):\n",
    "            primitive_root = i\n",
    "            mods.append((i**j) % number)\n",
    "        \n",
    "        if set(mods) == set(np.arange(1, number)):\n",
    "            return primitive_root"
   ]
  },
  {
   "cell_type": "markdown",
   "id": "bd00df25",
   "metadata": {},
   "source": [
    "Function that find all primitive roots of a number:"
   ]
  },
  {
   "cell_type": "code",
   "execution_count": 5,
   "id": "c554009a",
   "metadata": {},
   "outputs": [],
   "source": [
    "def find_primitive_roots(number: int) -> list:\n",
    "    primitives = []\n",
    "    for i in range(2, number):\n",
    "        primitive_root = None\n",
    "        mods = []\n",
    "        for j in range(number-1):\n",
    "            primitive_root = i\n",
    "            mods.append((i**j) % number)\n",
    "        \n",
    "        if set(mods) == set(np.arange(1, number)):\n",
    "            primitives.append(primitive_root)\n",
    "            \n",
    "    return primitives"
   ]
  },
  {
   "cell_type": "markdown",
   "id": "e39fb347",
   "metadata": {},
   "source": [
    "Function that verifies if x is a primitive root of a number."
   ]
  },
  {
   "cell_type": "code",
   "execution_count": 6,
   "id": "9083009d",
   "metadata": {},
   "outputs": [],
   "source": [
    "def is_primitive(x: int, number: int) -> bool:\n",
    "    mods = []\n",
    "    for i in range(number-1):\n",
    "        mods.append((x**i) % number)\n",
    "        \n",
    "    if set(mods) == set(np.arange(1, number)):\n",
    "        return True\n",
    "    \n",
    "    return False"
   ]
  },
  {
   "cell_type": "code",
   "execution_count": 7,
   "id": "defb0ccb",
   "metadata": {},
   "outputs": [
    {
     "data": {
      "text/plain": [
       "6"
      ]
     },
     "execution_count": 7,
     "metadata": {},
     "output_type": "execute_result"
    }
   ],
   "source": [
    "find_smallest_primitive(761)"
   ]
  },
  {
   "cell_type": "markdown",
   "id": "f3a5b85e",
   "metadata": {},
   "source": [
    "### Diffie Helmann"
   ]
  },
  {
   "cell_type": "code",
   "execution_count": 8,
   "id": "7655f1af",
   "metadata": {},
   "outputs": [],
   "source": [
    "def generate_public_key(prime_number, primitive_root, private_k=None):\n",
    "    if private_k == None:\n",
    "        private_k = int(input('Select a private key.\\n'))\n",
    "    \n",
    "    public_k = (primitive_root**private_k) % prime_number\n",
    "    \n",
    "    return public_k"
   ]
  },
  {
   "cell_type": "code",
   "execution_count": 9,
   "id": "7d2e876c",
   "metadata": {},
   "outputs": [
    {
     "data": {
      "text/plain": [
       "40"
      ]
     },
     "execution_count": 9,
     "metadata": {},
     "output_type": "execute_result"
    }
   ],
   "source": [
    "generate_public_key(353, 3, 97)"
   ]
  },
  {
   "cell_type": "code",
   "execution_count": 10,
   "id": "a9d9e976",
   "metadata": {},
   "outputs": [
    {
     "data": {
      "text/plain": [
       "248"
      ]
     },
     "execution_count": 10,
     "metadata": {},
     "output_type": "execute_result"
    }
   ],
   "source": [
    "generate_public_key(353, 3, 233)"
   ]
  },
  {
   "cell_type": "code",
   "execution_count": 11,
   "id": "43061d41",
   "metadata": {},
   "outputs": [],
   "source": [
    "def generate_secret_key(public_b: int, private_a: int, prime_number: int) -> int:\n",
    "    return (public_b**private_a) % prime_number"
   ]
  },
  {
   "cell_type": "code",
   "execution_count": 14,
   "id": "ac5c95d8",
   "metadata": {},
   "outputs": [],
   "source": [
    "def diffie_hellman(prime_number: int, primitive_root: int, private_k_a: int, private_k_b: int) -> dict:\n",
    "    if is_prime(prime_number) == False:\n",
    "        print('Select a prime number.')\n",
    "        return\n",
    "    \n",
    "    if is_primitive(primitive_root, prime_number) == False:\n",
    "        print('Select a primitive root of the chosen prime number.')\n",
    "        return\n",
    "    \n",
    "    if private_k_a >= prime_number or private_k_b >= prime_number:\n",
    "        print('The private keys have to be smaller than the prime number.')\n",
    "        return\n",
    "    \n",
    "    public_k_a = generate_public_key(prime_number, primitive_root, private_k_a)\n",
    "    public_k_b = generate_public_key(prime_number, primitive_root, private_k_b)\n",
    "    \n",
    "    secret_keys = {}\n",
    "    \n",
    "    secret_keys['A'] = generate_secret_key(public_k_a, private_k_b, prime_number)\n",
    "    secret_keys['B'] = generate_secret_key(public_k_b, private_k_a, prime_number)\n",
    "    \n",
    "    return secret_keys"
   ]
  },
  {
   "cell_type": "code",
   "execution_count": 15,
   "id": "582dc238",
   "metadata": {},
   "outputs": [
    {
     "data": {
      "text/plain": [
       "{'A': 160, 'B': 160}"
      ]
     },
     "execution_count": 15,
     "metadata": {},
     "output_type": "execute_result"
    }
   ],
   "source": [
    "diffie_hellman(353, 3, 97, 233)"
   ]
  },
  {
   "cell_type": "code",
   "execution_count": null,
   "id": "c6b4318b",
   "metadata": {},
   "outputs": [],
   "source": []
  }
 ],
 "metadata": {
  "kernelspec": {
   "display_name": "Python 3",
   "language": "python",
   "name": "python3"
  },
  "language_info": {
   "codemirror_mode": {
    "name": "ipython",
    "version": 3
   },
   "file_extension": ".py",
   "mimetype": "text/x-python",
   "name": "python",
   "nbconvert_exporter": "python",
   "pygments_lexer": "ipython3",
   "version": "3.8.8"
  }
 },
 "nbformat": 4,
 "nbformat_minor": 5
}
