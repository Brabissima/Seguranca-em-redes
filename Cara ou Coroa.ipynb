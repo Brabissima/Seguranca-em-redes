{
 "cells": [
  {
   "cell_type": "code",
   "execution_count": 1,
   "id": "991e23b6",
   "metadata": {},
   "outputs": [],
   "source": [
    "import hashlib"
   ]
  },
  {
   "cell_type": "markdown",
   "id": "394c4f85",
   "metadata": {},
   "source": [
    "# Função hash"
   ]
  },
  {
   "cell_type": "code",
   "execution_count": 2,
   "id": "cc3ecff9",
   "metadata": {},
   "outputs": [],
   "source": [
    "def SHA_256(coin):\n",
    "    if coin == 0:      \n",
    "        return hashlib.sha256(b'0')\n",
    "    elif coin == 1:\n",
    "        return hashlib.sha256(b'1')"
   ]
  },
  {
   "cell_type": "markdown",
   "id": "57e74adf",
   "metadata": {},
   "source": [
    "# Criptografia usando DES (Algoritmo simples)"
   ]
  },
  {
   "cell_type": "code",
   "execution_count": 3,
   "id": "932ef4ef",
   "metadata": {},
   "outputs": [],
   "source": [
    "from des import DesKey"
   ]
  },
  {
   "cell_type": "code",
   "execution_count": 4,
   "id": "8909b893",
   "metadata": {},
   "outputs": [],
   "source": [
    "key = DesKey(b'random k')"
   ]
  },
  {
   "cell_type": "code",
   "execution_count": 5,
   "id": "d933443d",
   "metadata": {},
   "outputs": [
    {
     "data": {
      "text/plain": [
       "b'\\xc8\\xd4\"c\\r\\xa9\\xdd\\xc0'"
      ]
     },
     "execution_count": 5,
     "metadata": {},
     "output_type": "execute_result"
    }
   ],
   "source": [
    "key.encrypt(b'00000001')"
   ]
  },
  {
   "cell_type": "code",
   "execution_count": 6,
   "id": "f19d6a86",
   "metadata": {},
   "outputs": [
    {
     "data": {
      "text/plain": [
       "b'00000001'"
      ]
     },
     "execution_count": 6,
     "metadata": {},
     "output_type": "execute_result"
    }
   ],
   "source": [
    "key.decrypt(b'\\xc8\\xd4\"c\\r\\xa9\\xdd\\xc0')"
   ]
  },
  {
   "cell_type": "markdown",
   "id": "58031918",
   "metadata": {},
   "source": [
    "# Cara ou Coroa usando Hash e DES"
   ]
  },
  {
   "cell_type": "markdown",
   "id": "a1934619",
   "metadata": {},
   "source": [
    "Bob aposta em cara ou coroa e Alice joga a moeda. Antes de Bob enviar seu resultado para Alice, ela envia a face da moeda criptografada pela função hash. Dessa forma, Bob saberá quando o resultado for adulterado. Após o envio do hash, Bob envia seu palpite e Alice envia o valor que usou para gerar a função hash, para Bob conferir se houve manipulação do resultado ou não."
   ]
  },
  {
   "cell_type": "code",
   "execution_count": 7,
   "id": "162020f5",
   "metadata": {},
   "outputs": [],
   "source": [
    "import random"
   ]
  },
  {
   "cell_type": "code",
   "execution_count": 8,
   "id": "ef665c71",
   "metadata": {},
   "outputs": [],
   "source": [
    "# Alice envia o resultado da função hash\n",
    "def encrypt_result(alice):\n",
    "    return SHA_256(alice)"
   ]
  },
  {
   "cell_type": "code",
   "execution_count": 9,
   "id": "459893c2",
   "metadata": {},
   "outputs": [],
   "source": [
    "# Bob envia seu palpite\n",
    "def send_guess(bob):\n",
    "    return bob"
   ]
  },
  {
   "cell_type": "code",
   "execution_count": 10,
   "id": "74ae6567",
   "metadata": {},
   "outputs": [],
   "source": [
    "# Alice envia o valor usado para gerar o hash\n",
    "def hash_value(alice):\n",
    "    return alice"
   ]
  },
  {
   "cell_type": "code",
   "execution_count": 11,
   "id": "7a60b833",
   "metadata": {},
   "outputs": [],
   "source": [
    "# Bob confere se o valor não foi alterado\n",
    "def checking_result(result, value):\n",
    "    if encrypt_result(value).hexdigest() == result.hexdigest():\n",
    "        return 'Não houve adulteração do resultado.'\n",
    "    return 'Houve adulteração do resultado.'"
   ]
  },
  {
   "cell_type": "markdown",
   "id": "17672bf2",
   "metadata": {},
   "source": [
    "## Criptografando o acerto ou erro de bob"
   ]
  },
  {
   "cell_type": "code",
   "execution_count": 12,
   "id": "1e01abd6",
   "metadata": {},
   "outputs": [],
   "source": [
    "# Afirmando ou negando o acerto do palpite de Bob\n",
    "def checking_guess(result, bob_guess):\n",
    "    if result == bob_guess:\n",
    "        return \"Right answer, coin value: {}\\n\".format(result)\n",
    "    return \"Wrong answer, you shot {}. The right coin value is {}.\\n\".format(bob_guess, result)"
   ]
  },
  {
   "cell_type": "code",
   "execution_count": 13,
   "id": "f10ad3f8",
   "metadata": {},
   "outputs": [],
   "source": [
    "# Impedindo intercepção de terceiros a partir da criptografia DES\n",
    "def encrypt(message, key):\n",
    "    key = DesKey(f'{key}'.encode())\n",
    "    return key.encrypt(f'{message}'.encode(), padding=True)"
   ]
  },
  {
   "cell_type": "code",
   "execution_count": 14,
   "id": "e4ff7c8a",
   "metadata": {},
   "outputs": [],
   "source": [
    "def decrypt(cipher, key):\n",
    "    key = DesKey(f'{key}'.encode())\n",
    "    return key.decrypt(cipher, padding=True)"
   ]
  },
  {
   "cell_type": "markdown",
   "id": "001ea48c",
   "metadata": {},
   "source": [
    "# Executando o jogo"
   ]
  },
  {
   "cell_type": "code",
   "execution_count": 15,
   "id": "34423c38",
   "metadata": {
    "scrolled": true
   },
   "outputs": [
    {
     "name": "stdout",
     "output_type": "stream",
     "text": [
      "Chave de criptografia com 8 caracteres: \n",
      "random k\n"
     ]
    }
   ],
   "source": [
    "key = input('Chave de criptografia com 8 caracteres: \\n')\n",
    "while len(key) != 8:\n",
    "    key = input('Chave de criptografia com 8 caracteres: \\n')"
   ]
  },
  {
   "cell_type": "code",
   "execution_count": 16,
   "id": "cba3a60a",
   "metadata": {},
   "outputs": [
    {
     "name": "stdout",
     "output_type": "stream",
     "text": [
      "Jogando a moeda...\n",
      "[ . . . ]\n",
      "A face da moeda é cara!\n",
      "Enviando resultado hasheado para Bob...\n",
      "[ . . . ]\n"
     ]
    }
   ],
   "source": [
    "print('Jogando a moeda...\\n[ . . . ]')\n",
    "\n",
    "alice = random.randint(0,1)\n",
    "\n",
    "if alice == 0:\n",
    "    print('A face da moeda é cara!')\n",
    "else:\n",
    "    print('A face da moeda é coroa!')\n",
    "    \n",
    "print('Enviando resultado hasheado para Bob...\\n[ . . . ]')"
   ]
  },
  {
   "cell_type": "code",
   "execution_count": 17,
   "id": "61607599",
   "metadata": {
    "scrolled": false
   },
   "outputs": [
    {
     "name": "stdout",
     "output_type": "stream",
     "text": [
      "Bob, o hash do resultado é:\n",
      "5feceb66ffc86f38d952786c6d696c79c2dbc239dd4e91b46729d73a27fb57e9\n",
      "\n",
      "Qual seu palpite?\n",
      "[0] Head \n",
      "[1] Tail\n",
      "\n",
      "1\n"
     ]
    }
   ],
   "source": [
    "result = encrypt_result(alice)\n",
    "print('Bob, o hash do resultado é:\\n{}\\n\\nQual seu palpite?'.format(result.hexdigest()))\n",
    "bob_guess = int(input('[0] Head \\n[1] Tail\\n\\n'))"
   ]
  },
  {
   "cell_type": "code",
   "execution_count": 18,
   "id": "a22bc20b",
   "metadata": {},
   "outputs": [
    {
     "name": "stdout",
     "output_type": "stream",
     "text": [
      "Checando se o palpite está correto e enviando valor que gerou o hash para Bob, sendo 0 para cara e 1 para coroa...\n",
      "[ . . . ]\n",
      "Alice, envie o valor que gerou o hash para Bob.\n",
      "0\n"
     ]
    },
    {
     "data": {
      "text/plain": [
       "'Não houve adulteração do resultado.'"
      ]
     },
     "execution_count": 18,
     "metadata": {},
     "output_type": "execute_result"
    }
   ],
   "source": [
    "print('Checando se o palpite está correto e enviando valor que gerou o hash para Bob, sendo 0 para cara e 1 para coroa...\\n[ . . . ]')\n",
    "\n",
    "value = int(input('Alice, envie o valor que gerou o hash para Bob.\\n'))\n",
    "answer = checking_guess(alice, bob_guess)\n",
    "checking_result(result, value)"
   ]
  },
  {
   "cell_type": "code",
   "execution_count": 19,
   "id": "436a564a",
   "metadata": {},
   "outputs": [
    {
     "name": "stdout",
     "output_type": "stream",
     "text": [
      "Resultado do acerto do palpite criptografado:\n",
      "\n",
      "b'\\xaaw\\x8c\\xdb,7\\x91i\\xcc\\x8d5\\x9c\\x03%(m\\xe9\\x8dH\\xfd\\xa4\\x7fW\\x05]\"\\xecM>\\x06\\xe6gM\\xf9\\xa0\\xd5\\n\\xadd\\x99\\xd4\\xcb_\\xf1\\xc7\\xfe2\\xafRn \\x95\\xf12;J'\n"
     ]
    }
   ],
   "source": [
    "cipher_text = encrypt(answer, 'random k')\n",
    "print('Resultado do acerto do palpite criptografado:\\n\\n{}'.format(cipher_text))"
   ]
  },
  {
   "cell_type": "code",
   "execution_count": 20,
   "id": "fc6daa84",
   "metadata": {},
   "outputs": [
    {
     "name": "stdout",
     "output_type": "stream",
     "text": [
      "Descriptografando a mensagem de acerto/erro para Bob...\n",
      "\n",
      "b'Wrong answer, you shot 1. The right coin value is 0.\\n'\n"
     ]
    }
   ],
   "source": [
    "print('Descriptografando a mensagem de acerto/erro para Bob...\\n\\n{}'.format(decrypt(cipher_text, 'random k')))"
   ]
  }
 ],
 "metadata": {
  "kernelspec": {
   "display_name": "Python 3",
   "language": "python",
   "name": "python3"
  },
  "language_info": {
   "codemirror_mode": {
    "name": "ipython",
    "version": 3
   },
   "file_extension": ".py",
   "mimetype": "text/x-python",
   "name": "python",
   "nbconvert_exporter": "python",
   "pygments_lexer": "ipython3",
   "version": "3.8.8"
  }
 },
 "nbformat": 4,
 "nbformat_minor": 5
}
